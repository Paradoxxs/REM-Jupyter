{
  "nbformat": 4,
  "nbformat_minor": 0,
  "metadata": {
    "colab": {
      "name": "Static analysis of documents.ipynb",
      "provenance": [],
      "collapsed_sections": [],
      "authorship_tag": "ABX9TyP9o7oag74lDq2QzshGCtVJ",
      "include_colab_link": true
    },
    "kernelspec": {
      "name": "python3",
      "display_name": "Python 3"
    },
    "language_info": {
      "name": "python"
    }
  },
  "cells": [
    {
      "cell_type": "markdown",
      "metadata": {
        "id": "view-in-github",
        "colab_type": "text"
      },
      "source": [
        "<a href=\"https://colab.research.google.com/github/Paradoxxs/REM-Jupyter/blob/main/Static_analysis_of_documents.ipynb\" target=\"_parent\"><img src=\"https://colab.research.google.com/assets/colab-badge.svg\" alt=\"Open In Colab\"/></a>"
      ]
    },
    {
      "cell_type": "markdown",
      "source": [
        "Static analyse of document files for malicous "
      ],
      "metadata": {
        "id": "VNM6LSF-zVdp"
      }
    },
    {
      "cell_type": "code",
      "source": [
        "import hashlib\n",
        "import sys\n",
        "import os\n",
        "from os.path import isdir, isfile, join, basename\n",
        "from getpass import getpass\n",
        "from virus_total_apis import PublicApi as VirusTotalPublicApi\n",
        "import json\n",
        "from pprint import pprint\n",
        "import os.path\n",
        "from time import sleep\n",
        "from datetime import datetime\n",
        "import pefile\n",
        "import requests\n",
        "import bs4\n",
        "import argparse\n",
        "import yara"
      ],
      "metadata": {
        "id": "aXiP5SgeqXos"
      },
      "execution_count": null,
      "outputs": []
    },
    {
      "cell_type": "code",
      "execution_count": null,
      "metadata": {
        "id": "VVCyat39lQOM"
      },
      "outputs": [],
      "source": [
        "# Globals\n",
        "Sample_dir = \"Samples/\"\n",
        "Processed_dir = \"processed-samples/\""
      ]
    },
    {
      "cell_type": "code",
      "source": [
        "class Sample:\n",
        "  def __init__(self, name):\n",
        "          self.name = name.replace(Sample_dir, \"\")\n",
        "          self.filepath = \"\"\n",
        "          self.folderpath = \"\"\n",
        "          self.sha256sum = \"\"\n",
        "          self.filetype = \"\""
      ],
      "metadata": {
        "id": "jSxwmrZvlnfh"
      },
      "execution_count": null,
      "outputs": []
    },
    {
      "cell_type": "code",
      "source": [
        "def check_dir(dir):\n",
        "    if not os.path.isdir(dir):\n",
        "        os.mkdir(dir)\n",
        "        print(\"Created \" + dir)\n",
        "    else:\n",
        "        print(\"Directory '\" + dir + \"' exists.\")"
      ],
      "metadata": {
        "id": "BE3pGr-8lpSA"
      },
      "execution_count": null,
      "outputs": []
    },
    {
      "cell_type": "code",
      "source": [
        "def Create_file(filename,folderpath,data):\n",
        "  if data != None:\n",
        "    with open(folderpath + filename, 'w') as newfile:\n",
        "      newfile.write(data)\n",
        "      newfile.close()"
      ],
      "metadata": {
        "id": "Jp63859on5N2"
      },
      "execution_count": null,
      "outputs": []
    },
    {
      "cell_type": "code",
      "source": [
        "def Read_file(path):\n",
        "  with open(path, \"w\") as f:\n",
        "    content = f.read()\n",
        "    f.close()\n",
        "    return content"
      ],
      "metadata": {
        "id": "h4-NP9pfoGQG"
      },
      "execution_count": null,
      "outputs": []
    },
    {
      "cell_type": "code",
      "source": [
        "def create_processed_dir(sha256):\n",
        "    new_dir = Processed_dir + sha256 + \"/\"\n",
        "    os.system(\"mkdir \" + )\n",
        "    return new_dir"
      ],
      "metadata": {
        "id": "k23TRk2JluUh"
      },
      "execution_count": null,
      "outputs": []
    },
    {
      "cell_type": "code",
      "source": [
        "def sha256sum(path):\n",
        "    sha256_hash = hashlib.sha256()\n",
        "    with open(path, \"rb\") as f:\n",
        "      hash = hashlib.sha256(f.read()).hexdigest()\n",
        "      f.close()\n",
        "    return hash"
      ],
      "metadata": {
        "id": "6n65-ywFlwJm"
      },
      "execution_count": null,
      "outputs": []
    },
    {
      "cell_type": "code",
      "source": [
        "def GetFiletype(filename):\n",
        "    tmp = filename.split(\".\")\n",
        "    return tmp[-1]"
      ],
      "metadata": {
        "id": "A2HmUBjSmcN6"
      },
      "execution_count": null,
      "outputs": []
    },
    {
      "cell_type": "code",
      "source": [
        "def move(name, Processed_sample_dir):\n",
        "    processed_sample = Processed_PE_dir + Processed_sample_dir + \"/\" + name\n",
        "    os.system(\"cp \" + Sample_dir + \"/\" + name + \" \" + processed_sample)\n",
        "    return processed_sample"
      ],
      "metadata": {
        "id": "6OvlwYPwooS5"
      },
      "execution_count": null,
      "outputs": []
    },
    {
      "cell_type": "code",
      "source": [
        "def pdf_analyze(filename, folderpath):\n",
        "  os.system(\"python pdf-parser.py  -a -O\" + \" \" + folderpath + filename + \" > \" + folderpath + \"pdf-parser.txt\")"
      ],
      "metadata": {
        "id": "zl3dJOfp5llF"
      },
      "execution_count": null,
      "outputs": []
    },
    {
      "cell_type": "code",
      "source": [
        "def offiice_analyze(filename, folderpath):\n",
        "  os.system(\"python oledump.py\" + \" \" + folderpath + filename + \" > \" + folderpath + \"oledump.txt\" )\n",
        "  os.system(\"python olevba.py\" + \" \" + folderpath + filename + \" > \" + folderpath + \"olevba.txt\" )"
      ],
      "metadata": {
        "id": "YnrGiDyZBGPl"
      },
      "execution_count": null,
      "outputs": []
    },
    {
      "cell_type": "code",
      "source": [
        "def rtf_analyze(filename, folderpath):\n",
        "  os.system(\"python rtfdump.py\" + \" \" + folderpath + filename + \" > \" + folderpath + \"rtfdump.txt\" )"
      ],
      "metadata": {
        "id": "6uQZ40YZ5PbB"
      },
      "execution_count": null,
      "outputs": []
    },
    {
      "cell_type": "code",
      "source": [
        "def analyze(folderpath,filename, filetype):\n",
        "  if(filetype == \"exe\" or \"dll\"):\n",
        "    #analyze the exe or dll file for the moment they will be handle the same way.\n",
        "  elif(filetype == \"pdf\"):\n",
        "    pdf_analyze(filename,folderpath)\n",
        "  elif (filetype == \"rtf\"):\n",
        "    rtf_analyze(filename,folderpath)\n",
        "  else\n",
        "    office_analyze(filename,folderpath)"
      ],
      "metadata": {
        "id": "MH0vhjQy4rxX"
      },
      "execution_count": null,
      "outputs": []
    },
    {
      "cell_type": "code",
      "source": [
        "check_dir(Sample_dir)\n",
        "check_dir(Processed_dir)\n",
        "if os.listdir(Sample_dir):\n",
        "    raise SystemExit(\"No files in samples\")"
      ],
      "metadata": {
        "id": "WD6NGic8oOqu"
      },
      "execution_count": null,
      "outputs": []
    },
    {
      "cell_type": "code",
      "source": [
        "samples=!ls Samples/*\n",
        "sample_obj = [Sample(s) for s in samples]"
      ],
      "metadata": {
        "id": "ldZBvAVcu0Ca"
      },
      "execution_count": null,
      "outputs": []
    },
    {
      "cell_type": "markdown",
      "source": [
        "1. create folder for handling document processing\n",
        "2. move the file to the process folder\n",
        "3. Get the sha256 hash of the file\n",
        "4. Get the file type "
      ],
      "metadata": {
        "id": "UwZnULTLqlFu"
      }
    },
    {
      "cell_type": "code",
      "source": [
        "for obj in sample_obj:\n",
        "    obj.sha256sum = sha256sum(Sample_dir + obj.name)\n",
        "    obj.folderpath = create_processed_dir(obj.name,obj.sha256sum)\n",
        "    obj.filepath = move(obj.name, obj.folderpath)\n",
        "    obj.filetype = GetFiletype(obj.name) \n",
        "    analyze(obj.folderpath,obj.filename, obj.filetype)"
      ],
      "metadata": {
        "id": "IzObvz9lu28v"
      },
      "execution_count": null,
      "outputs": []
    }
  ]
}