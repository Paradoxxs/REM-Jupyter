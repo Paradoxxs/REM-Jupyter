{
  "cells": [
    {
      "cell_type": "markdown",
      "metadata": {
        "id": "KkFniiJHvSQD"
      },
      "source": [
        "This notebook purpose is to perform static malware analysis \n",
        "Currently the scripts, defang the sample, performs strings, analysis the API used for common malicous intent and basic check if the file is packed. \n",
        "### TODO OOP\n",
        "### TODO office document analysis\n",
        "### TODO implement yara rules"
      ]
    },
    {
      "cell_type": "code",
      "execution_count": 5,
      "metadata": {
        "id": "33DDduKivLrT"
      },
      "outputs": [],
      "source": [
        "import hashlib\n",
        "import sys\n",
        "import os\n",
        "from os.path import isdir, isfile, join, basename\n",
        "from getpass import getpass\n",
        "from virus_total_apis import PublicApi as VirusTotalPublicApi\n",
        "import json\n",
        "from pprint import pprint\n",
        "import os.path\n",
        "from time import sleep\n",
        "from datetime import datetime\n",
        "import pefile\n",
        "import requests\n",
        "import bs4\n",
        "import argparse\n",
        "import yara"
      ]
    },
    {
      "cell_type": "code",
      "execution_count": 8,
      "metadata": {
        "id": "hLEStX858Z4b"
      },
      "outputs": [],
      "source": [
        "# Globals\n",
        "Sample_dir = \"Samples/\"\n",
        "Processed_PE_dir = \"PE-samples/\"\n",
        "Processed_Office_dir = \"Office-samples/\"\n",
        "now = datetime.now()\n",
        "date_time = now.strftime(\"%m-%d-%Y-%H%M%S\")"
      ]
    },
    {
      "cell_type": "code",
      "execution_count": 9,
      "metadata": {
        "id": "qc2INbgaGzT4"
      },
      "outputs": [],
      "source": [
        "class Sample:\n",
        "  def __init__(self, name):\n",
        "          self.name = name.replace(Sample_dir, \"\")\n",
        "          self.processed_sample_dir = \"\"\n",
        "          self.path = \"\"\n",
        "          self.sha256sum = \"\""
      ]
    },
    {
      "cell_type": "code",
      "execution_count": 10,
      "metadata": {
        "id": "fnfyizjIvqDX"
      },
      "outputs": [],
      "source": [
        "def check_dir(dir):\n",
        "    if not os.path.isdir(dir):\n",
        "        os.mkdir(dir)\n",
        "        print(\"Created \" + dir)\n",
        "    else:\n",
        "        print(\"Directory '\" + dir + \"' exists.\")"
      ]
    },
    {
      "cell_type": "code",
      "execution_count": 11,
      "metadata": {
        "id": "lf2GdSF2v1f4"
      },
      "outputs": [],
      "source": [
        "def is_dir_empty(dir):\n",
        "    dir_files = os.listdir(dir)\n",
        "    if len(dir_files) == 0:\n",
        "        print(\"Directory '\" + dir + \"' is empty.\")\n",
        "        return True"
      ]
    },
    {
      "cell_type": "code",
      "execution_count": 80,
      "metadata": {
        "id": "Ljwvi32gMJu2"
      },
      "outputs": [],
      "source": [
        "def Create_file(name,processed_sample_dir,data):\n",
        "  if data != None:\n",
        "    with open(Processed_PE_dir+processed_sample_dir+name, 'w') as newfile:\n",
        "      newfile.write(data)\n",
        "      newfile.close()"
      ]
    },
    {
      "cell_type": "code",
      "execution_count": 40,
      "metadata": {
        "id": "0l_WkOxdE6dK"
      },
      "outputs": [],
      "source": [
        "def create_processed_sample_dir(name):\n",
        "    tmp_processed_sample_dir = str(date_time) + \"_\" + name\n",
        "    new_dir = Processed_PE_dir + tmp_processed_sample_dir\n",
        "    os.system(\"mkdir \" + new_dir)\n",
        "    return tmp_processed_sample_dir"
      ]
    },
    {
      "cell_type": "code",
      "execution_count": 39,
      "metadata": {
        "id": "NU-YPwmuQIFH"
      },
      "outputs": [],
      "source": [
        "def move_and_defang(name, Processed_sample_dir):\n",
        "    suffix = \".bin\"\n",
        "    defanged_sample_name = name + suffix\n",
        "    processed_sample = Processed_PE_dir + Processed_sample_dir + \"/\" + defanged_sample_name\n",
        "\n",
        "    os.system(\"cp \" + Sample_dir + \"/\" + name + \" \" + processed_sample)\n",
        "    return processed_sample"
      ]
    },
    {
      "cell_type": "code",
      "execution_count": 87,
      "metadata": {
        "id": "cxKoU-KMhx5q"
      },
      "outputs": [],
      "source": [
        "def sha256sum(path, processed_sample_dir):\n",
        "    sha256_hash = hashlib.sha256()\n",
        "    with open(path, \"rb\") as f:\n",
        "      hash = hashlib.sha256(f.read()).hexdigest()\n",
        "      f.close()\n",
        "    Create_file('/sha256sum.txt',processed_sample_dir,hash)"
      ]
    },
    {
      "cell_type": "code",
      "execution_count": 49,
      "metadata": {
        "id": "AFCjWCIGjXYo"
      },
      "outputs": [],
      "source": [
        "    def Get_strings(length, processed_sample_dir, path):\n",
        "        file_name = \"Strings.txt\"\n",
        "        outfile = Processed_PE_dir + processed_sample_dir + \"/\" + file_name\n",
        "        #cmd = \"flarestrings -n \" + str(length) + \" \" + sample_path + \" | rank_strings --scores > \" + outfile\n",
        "        cmd = \"strings -n \" + str(length) + \" \" + path + \" > \" + outfile\n",
        "        cmd2 = \"strings -el -n \" + str(length) + \" \" + path + \" >> \" + outfile\n",
        "        os.system(cmd)\n",
        "        os.system(cmd2)"
      ]
    },
    {
      "cell_type": "code",
      "execution_count": 67,
      "metadata": {
        "id": "hmizdW6UNFDc"
      },
      "outputs": [],
      "source": [
        "import requests \n",
        "\n",
        "API_TARGET = 'https://api.unpac.me/api/v1'\n",
        "RATE_LIMIT = 5\n",
        "API_KEY = 'Your api key'\n",
        "auth_header={'Authorization': f'Key {API_KEY}'}\n",
        "\n",
        "def Unpacme_upload_file(path):\n",
        "  file_data = None\n",
        "\n",
        "  files = {'file': (basename(path), file_data)}\n",
        "  with open(path, \"rb\") as f:\n",
        "\t\t\tfile_data = f.read()\n",
        "\n",
        "  response = requests.post(f'{API_TARGET}/private/upload', files=files, headers=auth_header)\n",
        "  response.raise_for_status()\n",
        "  \n",
        "  if 'id' in response.json():\n",
        "    return response.json()['id']\n",
        "  \n",
        "  #files = {'file': (file_name, file_data)}\n",
        "  #r = requests.post('https://api.unpac.me/api/v1/private/upload', files=files, headers=auth_header)\n",
        "  #if not r.ok:\n",
        "  #  return None\n",
        "  #response = r.json()\n",
        "  #return response['id'] \n",
        "\n",
        "def Unpacme_get_status(unpacme_id):\n",
        "  response = requests.get(f'{API_TARGET}/public/status/{unpacme_id}')\n",
        "  response.raise_for_status()\n",
        "  return response.json().get('status', False)\n",
        "\n",
        "def Unpacme_get_report(unpacme_id):\n",
        "  response = requests.get(f'{API_TARGET}/public/results/{unpacme_id}')\n",
        "  response.raise_for_status()\n",
        "  return response.json()\n",
        "\n",
        "def Unpacme_search_hash(sha256_hash):\n",
        "  try:\n",
        "    response = requests.get(f'{API_TARGET}/private/search/hash/{sha256_hash}', headers=auth_header)\n",
        "    response.raise_for_status()\n",
        "    return response.json().get('results', False)\n",
        "  except requests.HTTPError as exception:\n",
        "    print(exception)\n",
        "  \n",
        "def Unpacme_download_sample(sha256, processed_sample_dir):\n",
        "  return\n",
        "\n"
      ]
    },
    {
      "cell_type": "code",
      "execution_count": 19,
      "metadata": {
        "id": "iVmQtCm-lzYA"
      },
      "outputs": [],
      "source": [
        "import time\n",
        "import requests\n",
        "\n",
        "api_key = 'Your api key'\n",
        "base_url = 'https://analyze.intezer.com/api/v2-0'\n",
        "\n",
        "def Inetezer_auth():\n",
        "  response = requests.post(base_url + '/get-access-token', json={'api_key': api_key})\n",
        "  response.raise_for_status()\n",
        "  session = requests.session()\n",
        "  session.headers['Authorization'] = session.headers['Authorization'] = 'Bearer %s' % response.json()['result']\n",
        "  return session\n",
        "\n",
        "def Inetezer_upload(path, session):\n",
        "\n",
        "  with open(path, 'rb') as file_to_upload:\n",
        "      files = {'file': ('file_name', file_to_upload)}\n",
        "      response = session.post(base_url + '/analyze', files=files)\n",
        "      assert response.status_code == 201\n",
        "\n",
        "  while response.status_code != 200:\n",
        "      time.sleep(1)\n",
        "      result_url = response.json()['result_url']\n",
        "      response = session.get(base_url + result_url)\n",
        "      response.raise_for_status()\n",
        "\n",
        "  print(response.json())\n",
        "  return response.json()\n",
        "\n",
        "def Intezer_search(sha256sum, session):\n",
        "  response = session.get(base_url + '/files/' + sha256sum)\n",
        "  print(response.json())\n",
        "  return response.json()"
      ]
    },
    {
      "cell_type": "code",
      "execution_count": 22,
      "metadata": {
        "id": "XcvvLR0nzEdg"
      },
      "outputs": [],
      "source": [
        "def detect_packing(path,sha256sum):\n",
        "\n",
        "  search_response = Unpacme_search_hash(sha256sum)\n",
        "  #if search_response == '':\n",
        "    #Do I want to upload the file to Unpacme? \n",
        "    #unpacme_id = Unpacme_upload_file(path)\n",
        "    #Unpacme_get_status(unpacme_id)\n",
        "    #Unpacme_get_report(unpacme_id)\n",
        "    #Unpacme_download_sample(sha256,processed_sample_dir)\n",
        "\n",
        "\n"
      ]
    },
    {
      "cell_type": "code",
      "execution_count": null,
      "metadata": {
        "id": "JJJC-_FuwMEs"
      },
      "outputs": [],
      "source": [
        "check_dir(Sample_dir)\n",
        "check_dir(Processed_PE_dir)\n",
        "check_dir(Processed_Office_dir)\n",
        "empty = is_dir_empty(Sample_dir)\n",
        "if empty:\n",
        "    raise SystemExit(\"Missing files in samples\")"
      ]
    },
    {
      "cell_type": "code",
      "execution_count": 27,
      "metadata": {
        "id": "8hu2xLhOFNzj"
      },
      "outputs": [],
      "source": [
        "samples=!ls Samples/*\n",
        "sample_obj = [Sample(s) for s in samples]"
      ]
    },
    {
      "cell_type": "code",
      "execution_count": null,
      "metadata": {
        "id": "wOSnHmTXFPV6"
      },
      "outputs": [],
      "source": [
        "for obj in sample_obj:\n",
        "    obj.processed_sample_dir = create_processed_sample_dir(obj.name)\n",
        "    obj.path = move_and_defang(obj.name, obj.processed_sample_dir)\n",
        "    obj.sha256sum = sha256sum(obj.path, obj.processed_sample_dir)\n",
        "    Get_strings(6, obj.processed_sample_dir, obj.path)\n",
        "    Create_file(\"/Unpackme.txt\", obj.processed_sample_dir,detect_packing(obj.path, obj.sha256sum))"
      ]
    },
    {
      "cell_type": "markdown",
      "metadata": {
        "id": "N613FuqxlDif"
      },
      "source": [
        "Virustotal integration"
      ]
    },
    {
      "cell_type": "code",
      "execution_count": 83,
      "metadata": {
        "colab": {
          "base_uri": "https://localhost:8080/"
        },
        "id": "6GdI05FmlG5S",
        "outputId": "d4ae5883-f492-4ad6-91bc-81cab68ebf48"
      },
      "outputs": [
        {
          "name": "stdout",
          "output_type": "stream",
          "text": [
            "jre-8u311-windows-i586-iftw.exe:\n",
            "SHA256sum: e3b0c44298fc1c149afbf4c8996fb92427ae41e4649b934ca495991b7852b855\n"
          ]
        }
      ],
      "source": [
        "VT_API_KEY = 'Your api key'\n",
        "vt = VirusTotalPublicApi(VT_API_KEY)\n",
        "\n",
        "\n",
        "if VT_API_KEY:\n",
        "    for obj in sample_obj:\n",
        "        print(obj.name + \":\")\n",
        "        print(r\"SHA256sum: \" + obj.sha256sum)\n",
        "        parsed = json.dumps(vt.get_file_report(obj.sha256sum), indent=4)\n",
        "        if(parsed != empty):\n",
        "          with open(Processed_PE_dir + obj.processed_sample_dir + \"/Virustotal.json\", \"w\") as VTfile:\n",
        "            VTfile.write(parsed)\n",
        "            VTfile.close()\n",
        "        if len(sample_obj) >= 5:\n",
        "            sleep(16)"
      ]
    },
    {
      "cell_type": "code",
      "execution_count": null,
      "metadata": {
        "id": "kc1qmJa7i5ct"
      },
      "outputs": [],
      "source": [
        "for obj in sample_obj:\n",
        "  print(obj.name)\n",
        "  print(obj.path)\n",
        "  print(obj.processed_sample_dir)"
      ]
    },
    {
      "cell_type": "code",
      "execution_count": null,
      "metadata": {
        "id": "G7Ke4WfepKO7"
      },
      "outputs": [],
      "source": [
        "def malapi_check(api):\n",
        "  mal_apis = {}\n",
        "  pe = pefile.PE(path, fast_load=True)\n",
        "  pe.parse_data_directories()\n",
        "  try:\n",
        "      for entry in pe.DIRECTORY_ENTRY_IMPORT:\n",
        "        for imp in entry.imports:\n",
        "          try:\n",
        "            APICheck = requests.get(\"https://malapi.io/winapi/\" + imp.name.decode(\"utf-8\"))\n",
        "            APISoup = bs4.BeautifulSoup(APICheck.text, 'html.parser')\n",
        "            details = APISoup.select('.detail-container .content')\n",
        "            ApiInfo = details[1].getText().lstrip().rstrip()\n",
        "            mal_apis[imp.name.decode(\"utf-8\")] = ApiInfo\n",
        "          except:\n",
        "            continue\n",
        "  except:\n",
        "      pass\n",
        "  return mal_apis"
      ]
    },
    {
      "cell_type": "code",
      "execution_count": null,
      "metadata": {
        "id": "yYMg6L8loMmD"
      },
      "outputs": [],
      "source": [
        "for obj in sample_obj: \n",
        "    mal_api_results =  json.dumps(check_api(obj.path), indent=2)\n",
        "    with open(Processed_dir + obj.processed_sample_dir + \"/Mal_api.txt\", \"w\") as APIfile:\n",
        "      APIfile.write(mal_api_results)\n",
        "      APIfile.close()"
      ]
    }
  ],
  "metadata": {
    "colab": {
      "collapsed_sections": [],
      "name": "Static malware analysis.ipynb",
      "provenance": []
    },
    "kernelspec": {
      "display_name": "Python 3",
      "name": "python3"
    },
    "language_info": {
      "name": "python"
    }
  },
  "nbformat": 4,
  "nbformat_minor": 0
}
